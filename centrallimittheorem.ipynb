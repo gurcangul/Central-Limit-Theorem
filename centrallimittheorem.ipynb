{
 "cells": [
  {
   "cell_type": "code",
   "execution_count": null,
   "metadata": {},
   "outputs": [],
   "source": [
    "import numpy as np\n",
    "import matplotlib.pyplot as plt\n",
    "from scipy.stats import semicircular"
   ]
  },
  {
   "cell_type": "code",
   "execution_count": 119,
   "metadata": {},
   "outputs": [
    {
     "name": "stdout",
     "output_type": "stream",
     "text": [
      "mean 0.30766208292242747\n",
      "std 0.2320785167023477\n"
     ]
    },
    {
     "data": {
      "image/png": "[encoded data removed]",
      "text/plain": [
       "<Figure size 432x288 with 1 Axes>"
      ]
     },
     "metadata": {
      "needs_background": "light"
     },
     "output_type": "display_data"
    }
   ],
   "source": [
    "#experiment1\n",
    "numbers = np.random.uniform(size=2)\n",
    "numbers\n",
    "numbers_mean=np.mean([numbers])\n",
    "numbers_mean\n",
    "numbers_std=np.std([numbers])\n",
    "numbers_std\n",
    "numbers=np.true_divide(numbers,max(numbers))\n",
    "plt.hist(x=numbers, bins='auto',rwidth=0.1)\n",
    "plt.xlim(0,1) \n",
    "print(\"mean\",numbers_mean)\n",
    "print(\"std\",numbers_std)"
   ]
  },
  {
   "cell_type": "code",
   "execution_count": 120,
   "metadata": {},
   "outputs": [
    {
     "name": "stdout",
     "output_type": "stream",
     "text": [
      "mean 0.537640212538777\n",
      "std 0.2873829334556226\n"
     ]
    },
    {
     "data": {
      "image/png": "[encoded data removed]",
      "text/plain": [
       "<Figure size 432x288 with 1 Axes>"
      ]
     },
     "metadata": {
      "needs_background": "light"
     },
     "output_type": "display_data"
    }
   ],
   "source": [
    "#experiment2\n",
    "numbers = np.random.uniform(size=10)\n",
    "numbers\n",
    "numbers_mean=np.mean([numbers])\n",
    "numbers_mean\n",
    "numbers_std=np.std([numbers])\n",
    "numbers_std\n",
    "numbers=np.true_divide(numbers,max(numbers))\n",
    "plt.hist(x=numbers, bins=100)\n",
    "plt.xlim(0,1) \n",
    "print(\"mean\",numbers_mean)\n",
    "print(\"std\",numbers_std)"
   ]
  },
  {
   "cell_type": "code",
   "execution_count": 151,
   "metadata": {},
   "outputs": [
    {
     "name": "stdout",
     "output_type": "stream",
     "text": [
      "mean 0.49173237450066354\n",
      "std 0.2866096801404248\n"
     ]
    },
    {
     "data": {
      "text/plain": [
       "246.57564152314478"
      ]
     },
     "execution_count": 151,
     "metadata": {},
     "output_type": "execute_result"
    },
    {
     "data": {
      "image/png": "[encoded data removed]",
      "text/plain": [
       "<Figure size 432x288 with 1 Axes>"
      ]
     },
     "metadata": {
      "needs_background": "light"
     },
     "output_type": "display_data"
    }
   ],
   "source": [
    "#experiment3\n",
    "numbers = np.random.uniform(size=500)\n",
    "numbers\n",
    "numbers_mean=np.mean([numbers])\n",
    "numbers_mean\n",
    "numbers_std=np.std([numbers])\n",
    "numbers_std\n",
    "numbers=np.true_divide(numbers,max(numbers))\n",
    "plt.hist(x=numbers, bins=1000)\n",
    "plt.xlim(0,1) \n",
    "print(\"mean\",numbers_mean)\n",
    "print(\"std\",numbers_std)\n",
    "np.sum(numbers)"
   ]
  },
  {
   "cell_type": "code",
   "execution_count": 172,
   "metadata": {},
   "outputs": [
    {
     "name": "stdout",
     "output_type": "stream",
     "text": [
      "mean 1.7797855575603534\n",
      "std 0.04093398635781431\n"
     ]
    },
    {
     "data": {
      "text/plain": [
       "3.559571115120707"
      ]
     },
     "execution_count": 172,
     "metadata": {},
     "output_type": "execute_result"
    },
    {
     "data": {
      "image/png": "[encoded data removed]",
      "text/plain": [
       "<Figure size 432x288 with 1 Axes>"
      ]
     },
     "metadata": {
      "needs_background": "light"
     },
     "output_type": "display_data"
    }
   ],
   "source": [
    "#experiment5\n",
    "numbers = semicircular.rvs(size=2)+2\n",
    "numbers\n",
    "numbers_mean=np.mean([numbers])\n",
    "numbers_mean\n",
    "numbers_std=np.std([numbers])\n",
    "numbers_std\n",
    "#numbers=np.true_divide(numbers,max(numbers))\n",
    "plt.hist(x=numbers)\n",
    "plt.xlim(1,3) \n",
    "print(\"mean\",numbers_mean)\n",
    "print(\"std\",numbers_std)\n",
    "np.sum(numbers)"
   ]
  },
  {
   "cell_type": "code",
   "execution_count": 177,
   "metadata": {},
   "outputs": [
    {
     "name": "stdout",
     "output_type": "stream",
     "text": [
      "mean 2.0822120817444807\n",
      "std 0.37045892813908443\n"
     ]
    },
    {
     "data": {
      "text/plain": [
       "20.82212081744481"
      ]
     },
     "execution_count": 177,
     "metadata": {},
     "output_type": "execute_result"
    },
    {
     "data": {
      "image/png": "[encoded data removed]",
      "text/plain": [
       "<Figure size 432x288 with 1 Axes>"
      ]
     },
     "metadata": {
      "needs_background": "light"
     },
     "output_type": "display_data"
    }
   ],
   "source": [
    "#experiment6\n",
    "numbers = semicircular.rvs(size=10)+2\n",
    "numbers\n",
    "numbers_mean=np.mean([numbers])\n",
    "numbers_mean\n",
    "numbers_std=np.std([numbers])\n",
    "numbers_std\n",
    "#numbers=np.true_divide(numbers,max(numbers))\n",
    "plt.hist(x=numbers)\n",
    "plt.xlim(1,3) \n",
    "print(\"mean\",numbers_mean)\n",
    "print(\"std\",numbers_std)\n",
    "np.sum(numbers)"
   ]
  },
  {
   "cell_type": "code",
   "execution_count": 181,
   "metadata": {},
   "outputs": [
    {
     "name": "stdout",
     "output_type": "stream",
     "text": [
      "mean 1.9588348175171033\n",
      "std 0.44938558510873067\n"
     ]
    },
    {
     "data": {
      "text/plain": [
       "97.94174087585516"
      ]
     },
     "execution_count": 181,
     "metadata": {},
     "output_type": "execute_result"
    },
    {
     "data": {
      "image/png": "[encoded data removed]",
      "text/plain": [
       "<Figure size 432x288 with 1 Axes>"
      ]
     },
     "metadata": {
      "needs_background": "light"
     },
     "output_type": "display_data"
    }
   ],
   "source": [
    "#experiment7\n",
    "numbers = semicircular.rvs(size=50)+2\n",
    "numbers\n",
    "numbers_mean=np.mean([numbers])\n",
    "numbers_mean\n",
    "numbers_std=np.std([numbers])\n",
    "numbers_std\n",
    "#numbers=np.true_divide(numbers,max(numbers))\n",
    "plt.hist(x=numbers)\n",
    "plt.xlim(1,3) \n",
    "print(\"mean\",numbers_mean)\n",
    "print(\"std\",numbers_std)\n",
    "np.sum(numbers)"
   ]
  },
  {
   "cell_type": "code",
   "execution_count": 206,
   "metadata": {},
   "outputs": [
    {
     "name": "stdout",
     "output_type": "stream",
     "text": [
      "mean 1.9588348175171033\n",
      "std 0.44938558510873067\n",
      "sum 97.55700990429871\n"
     ]
    },
    {
     "data": {
      "image/png": "[encoded data removed]",
      "text/plain": [
       "<Figure size 432x288 with 1 Axes>"
      ]
     },
     "metadata": {
      "needs_background": "light"
     },
     "output_type": "display_data"
    }
   ],
   "source": [
    "allnumbers=[];\n",
    "for i in range(1000):\n",
    "    numbers = semicircular.rvs(size=50)+2;\n",
    "    allnumbers= [allnumbers,numbers];\n",
    "\n",
    "allnumbers\n",
    "plt.hist(x=numbers, rwidth=1)\n",
    "plt.xlim(1,3) \n",
    "print(\"mean\",numbers_mean)\n",
    "print(\"std\",numbers_std)\n",
    "print(\"sum\",np.sum(numbers))"
   ]
  },
  {
   "cell_type": "code",
   "execution_count": null,
   "metadata": {},
   "outputs": [],
   "source": []
  },
  {
   "cell_type": "code",
   "execution_count": null,
   "metadata": {},
   "outputs": [],
   "source": []
  },
  {
   "cell_type": "code",
   "execution_count": null,
   "metadata": {},
   "outputs": [],
   "source": []
  },
  {
   "cell_type": "code",
   "execution_count": null,
   "metadata": {},
   "outputs": [],
   "source": []
  },
  {
   "cell_type": "code",
   "execution_count": null,
   "metadata": {},
   "outputs": [],
   "source": []
  }
 ],
 "metadata": {
  "kernelspec": {
   "display_name": "Python 3",
   "language": "python",
   "name": "python3"
  },
  "language_info": {
   "codemirror_mode": {
    "name": "ipython",
    "version": 3
   },
   "file_extension": ".py",
   "mimetype": "text/x-python",
   "name": "python",
   "nbconvert_exporter": "python",
   "pygments_lexer": "ipython3",
   "version": "3.7.3"
  }
 },
 "nbformat": 4,
 "nbformat_minor": 2
}
